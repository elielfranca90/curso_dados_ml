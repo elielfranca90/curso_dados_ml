{
 "cells": [
  {
   "cell_type": "code",
   "execution_count": 1,
   "id": "d2aedf4d",
   "metadata": {},
   "outputs": [
    {
     "name": "stdout",
     "output_type": "stream",
     "text": [
      "[1 2 3]\n",
      "int64\n"
     ]
    }
   ],
   "source": [
    "#numpy = ferramenta para computação científica que fornece suporte a arrays e matrizes\n",
    "#facilita operações matemáticas e lógicas em arrays multidimensionais\n",
    "#matriz multidimensional de tamanho fixo e que só trabalha com um único tipo de dado\n",
    "import numpy as np\n",
    "\n",
    "# cria uma matriz unidimensional\n",
    "a = np.array([1, 2, 3])\n",
    "print(a)\n",
    "print(a.dtype)  # mostra o tipo de dado do array"
   ]
  }
 ],
 "metadata": {
  "kernelspec": {
   "display_name": ".venv",
   "language": "python",
   "name": "python3"
  },
  "language_info": {
   "codemirror_mode": {
    "name": "ipython",
    "version": 3
   },
   "file_extension": ".py",
   "mimetype": "text/x-python",
   "name": "python",
   "nbconvert_exporter": "python",
   "pygments_lexer": "ipython3",
   "version": "3.13.1"
  }
 },
 "nbformat": 4,
 "nbformat_minor": 5
}
