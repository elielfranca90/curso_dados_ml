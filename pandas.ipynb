{
 "cells": [
  {
   "cell_type": "code",
   "execution_count": 3,
   "id": "136704c5",
   "metadata": {},
   "outputs": [
    {
     "name": "stdout",
     "output_type": "stream",
     "text": [
      "  checking_status,duration,credit_history,purpose,credit_amount,savings_status,employment,installment_commitment,personal_status,other_parties,residence_since,property_magnitude,age,other_payment_plans,housing,existing_credits,job,num_dependents,own_telephone,foreign_worker,class\n",
      "0  <0,6,'critical/other existing credit',radio/tv...                                                                                                                                                                                                                                    \n",
      "1  0<=X<200,48,'existing paid',radio/tv,5951,<100...                                                                                                                                                                                                                                    \n",
      "2  'no checking',12,'critical/other existing cred...                                                                                                                                                                                                                                    \n",
      "3  <0,42,'existing paid',furniture/equipment,7882...                                                                                                                                                                                                                                    \n",
      "4  <0,24,'delayed previously','new car',4870,<100...                                                                                                                                                                                                                                    \n"
     ]
    }
   ],
   "source": [
    "#pandas é uma biblioteca de manipulação de dados\n",
    "#ele funciona simular a um banco de dados e series temporais\n",
    "import pandas as pd\n",
    "\n",
    "dados = pd.read_csv(r'material\\Formação CD\\7.Prática em Python\\Credit.csv', sep = ';')\n",
    "\n",
    "print(dados.head()) #imprime as 5 primeiras linhas"
   ]
  }
 ],
 "metadata": {
  "kernelspec": {
   "display_name": ".venv",
   "language": "python",
   "name": "python3"
  },
  "language_info": {
   "codemirror_mode": {
    "name": "ipython",
    "version": 3
   },
   "file_extension": ".py",
   "mimetype": "text/x-python",
   "name": "python",
   "nbconvert_exporter": "python",
   "pygments_lexer": "ipython3",
   "version": "3.13.1"
  }
 },
 "nbformat": 4,
 "nbformat_minor": 5
}
