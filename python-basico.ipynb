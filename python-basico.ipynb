{
 "cells": [
  {
   "cell_type": "code",
   "execution_count": 6,
   "id": "c7e36d76",
   "metadata": {},
   "outputs": [
    {
     "name": "stdout",
     "output_type": "stream",
     "text": [
      "[0, 1, 2, 3, 4, 5, 6, 7, 8, 9]\n",
      "first: 0\n"
     ]
    }
   ],
   "source": [
    "#listas\n",
    "\n",
    "lista = list(range(0, 10))\n",
    "print(lista)\n",
    "\n",
    "firstvalue = lista[0]\n",
    "print(\"first:\", firstvalue)"
   ]
  },
  {
   "cell_type": "code",
   "execution_count": 8,
   "id": "6e14fe07",
   "metadata": {},
   "outputs": [
    {
     "name": "stdout",
     "output_type": "stream",
     "text": [
      "João\n",
      "15.0\n"
     ]
    }
   ],
   "source": [
    "# Dicionários: declarados com chaves e valores\n",
    "dicionario = {\"nome\": \"João\", \"idade\": 30, \"cidade\": \"São Paulo\"}\n",
    "\n",
    "print(dicionario[\"nome\"])\n",
    "\n",
    "precos = {\"lapis\": 1.50, \"borracha\": 2.00, \"caneta\": 1.00, \"caderno\": 15.00}\n",
    "print(precos[\"caderno\"])"
   ]
  },
  {
   "cell_type": "code",
   "execution_count": null,
   "id": "f1ec5c52",
   "metadata": {},
   "outputs": [
    {
     "name": "stdout",
     "output_type": "stream",
     "text": [
      "{'cachorro', 'elefante', 'gato'}\n",
      "cachorro\n",
      "elefante\n"
     ]
    }
   ],
   "source": [
    "#Sets: conjuntos de valores únicos\n",
    "animais = {\"gato\", \"cachorro\", \"elefante\", \"gato\"}\n",
    "print(animais)\n",
    "#printa o primeiro valor\n",
    "print(animais.pop())\n"
   ]
  },
  {
   "cell_type": "code",
   "execution_count": null,
   "id": "654f3b34",
   "metadata": {},
   "outputs": [],
   "source": [
    "#tuplas: listas imutáveis\n",
    "tupla = (1, 2, 3, 4, 5)"
   ]
  }
 ],
 "metadata": {
  "kernelspec": {
   "display_name": ".venv",
   "language": "python",
   "name": "python3"
  },
  "language_info": {
   "codemirror_mode": {
    "name": "ipython",
    "version": 3
   },
   "file_extension": ".py",
   "mimetype": "text/x-python",
   "name": "python",
   "nbconvert_exporter": "python",
   "pygments_lexer": "ipython3",
   "version": "3.13.1"
  }
 },
 "nbformat": 4,
 "nbformat_minor": 5
}
